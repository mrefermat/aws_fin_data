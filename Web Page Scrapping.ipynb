{
 "cells": [
  {
   "cell_type": "code",
   "execution_count": 2,
   "metadata": {},
   "outputs": [
    {
     "name": "stderr",
     "output_type": "stream",
     "text": [
      "/Users/mrefermat/anaconda/lib/python2.7/site-packages/IPython/utils/traitlets.py:5: UserWarning: IPython.utils.traitlets has moved to a top-level traitlets package.\n",
      "  warn(\"IPython.utils.traitlets has moved to a top-level traitlets package.\")\n",
      "/Users/mrefermat/anaconda/lib/python2.7/site-packages/IPython/kernel/__init__.py:13: ShimWarning: The `IPython.kernel` package has been deprecated since IPython 4.0.You should import from ipykernel or jupyter_client instead.\n",
      "  \"You should import from ipykernel or jupyter_client instead.\", ShimWarning)\n"
     ]
    }
   ],
   "source": [
    "%matplotlib inline\n",
    "import quandl\n",
    "import seaborn as sns\n",
    "import pandas as pd"
   ]
  },
  {
   "cell_type": "code",
   "execution_count": 3,
   "metadata": {},
   "outputs": [],
   "source": [
    "import urllib2\n",
    "from bs4 import BeautifulSoup"
   ]
  },
  {
   "cell_type": "code",
   "execution_count": 15,
   "metadata": {},
   "outputs": [],
   "source": [
    "quote_page='https://cib.societegenerale.com/fileadmin/indices_feeds/ti_screen/index.html'"
   ]
  },
  {
   "cell_type": "code",
   "execution_count": 16,
   "metadata": {},
   "outputs": [],
   "source": [
    "page = urllib2.urlopen(quote_page)"
   ]
  },
  {
   "cell_type": "code",
   "execution_count": 17,
   "metadata": {},
   "outputs": [],
   "source": [
    "soup = BeautifulSoup(page, 'html.parser')"
   ]
  },
  {
   "cell_type": "code",
   "execution_count": 18,
   "metadata": {},
   "outputs": [],
   "source": [
    "name_box = soup.find('h1', attrs={'class': 'name'})"
   ]
  },
  {
   "cell_type": "code",
   "execution_count": 19,
   "metadata": {},
   "outputs": [
    {
     "ename": "AttributeError",
     "evalue": "'NoneType' object has no attribute 'text'",
     "output_type": "error",
     "traceback": [
      "\u001b[0;31m---------------------------------------------------------------------------\u001b[0m",
      "\u001b[0;31mAttributeError\u001b[0m                            Traceback (most recent call last)",
      "\u001b[0;32m<ipython-input-19-4479d4a8a26d>\u001b[0m in \u001b[0;36m<module>\u001b[0;34m()\u001b[0m\n\u001b[0;32m----> 1\u001b[0;31m \u001b[0mname\u001b[0m \u001b[0;34m=\u001b[0m \u001b[0mname_box\u001b[0m\u001b[0;34m.\u001b[0m\u001b[0mtext\u001b[0m\u001b[0;34m.\u001b[0m\u001b[0mstrip\u001b[0m\u001b[0;34m(\u001b[0m\u001b[0;34m)\u001b[0m \u001b[0;31m# strip() is used to remove starting and trailing\u001b[0m\u001b[0;34m\u001b[0m\u001b[0m\n\u001b[0m\u001b[1;32m      2\u001b[0m \u001b[0;32mprint\u001b[0m \u001b[0mname\u001b[0m\u001b[0;34m\u001b[0m\u001b[0m\n",
      "\u001b[0;31mAttributeError\u001b[0m: 'NoneType' object has no attribute 'text'"
     ]
    }
   ],
   "source": [
    "name = name_box.text.strip() # strip() is used to remove starting and trailing\n",
    "print name"
   ]
  },
  {
   "cell_type": "code",
   "execution_count": 20,
   "metadata": {},
   "outputs": [
    {
     "data": {
      "text/plain": [
       "<!DOCTYPE html PUBLIC \"-//W3C//DTD XHTML 1.0 Transitional//EN\" \"https://www.w3.org/TR/xhtml1/DTD/xhtml1-transitional.dtd\">\n",
       "\n",
       "<html lang=\"en\" xml:lang=\"en\" xmlns=\"https://www.w3.org/1999/xhtml\">\n",
       "<head>\n",
       "<meta content=\"text/html;charset=utf-8\" http-equiv=\"Content-Type\"/>\n",
       "<title>SG Trend Indicator Daily Report</title>\n",
       "<link href=\"img/favicon.ico\" rel=\"shortcut icon\" type=\"image/x-icon; charset=binary\"/>\n",
       "<link href=\"img/favicon.ico\" rel=\"icon\" type=\"image/x-icon; charset=binary\"/>\n",
       "<link href=\"css/ti_page_201803.css\" rel=\"stylesheet\" type=\"text/css\"/>\n",
       "<link href=\"css/dataTables_201801.css\" rel=\"stylesheet\" type=\"text/css\"/>\n",
       "<link href=\"css/fixedHeader.dataTables_201706.css\" rel=\"stylesheet\" type=\"text/css\"/>\n",
       "<link href=\"css/featherlight.min.css\" rel=\"stylesheet\" type=\"text/css\"/>\n",
       "<link href=\"css/jquery-ui.css\" rel=\"stylesheet\" type=\"text/css\"/>\n",
       "<link href=\"css/hopscotch-0.2.6.min.css\" rel=\"stylesheet\" type=\"text/css\"/>\n",
       "<script src=\"js/jquery-1.11.1.min.js\" type=\"text/javascript\"></script>\n",
       "<script charset=\"utf-8\" src=\"js/jquery-ui.1.12.1.min.js\" type=\"text/javascript\"></script>\n",
       "<script charset=\"utf-8\" src=\"js/highstock.js\" type=\"text/javascript\"></script>\n",
       "<script charset=\"utf-8\" src=\"js/exporting.js\" type=\"text/javascript\"></script>\n",
       "<script charset=\"utf-8\" src=\"js/data.js\" type=\"text/javascript\"></script>\n",
       "<script charset=\"utf-8\" src=\"js/drilldown.js\" type=\"text/javascript\"></script>\n",
       "<script charset=\"utf-8\" src=\"js/d3.v4.min.js\" type=\"text/javascript\"></script>\n",
       "<script charset=\"utf-8\" src=\"js/jquery.dataTables.min.js\" type=\"text/javascript\"></script>\n",
       "<script charset=\"utf-8\" src=\"js/dataTables.rowGroup.min.js\" type=\"text/javascript\"></script>\n",
       "<script charset=\"utf-8\" src=\"js/dataTables.fixedHeader.min.js\" type=\"text/javascript\"></script>\n",
       "<script charset=\"utf-8\" src=\"js/featherlight.1.5.0.min.js\" type=\"text/javascript\"></script>\n",
       "<script charset=\"utf-8\" src=\"js/hopscotch-0.2.6.min.js\" type=\"text/javascript\"></script>\n",
       "<script charset=\"utf-8\" src=\"js/ti_dashboard_201801.js\" type=\"text/javascript\"></script>\n",
       "<script charset=\"utf-8\" src=\"js/ti_dashboard_tour_201706.js\" type=\"text/javascript\"></script>\n",
       "<script charset=\"utf-8\" src=\"js/konami.js\" type=\"text/javascript\"></script>\n",
       "</head>\n",
       "<body>\n",
       "<div id=\"preloader\"></div>\n",
       "<div id=\"header\">\n",
       "<img alt=\"SG\" id=\"logo\" src=\"img/socGenLogo.png\"/>\n",
       "<div align=\"right\" id=\"banner\"><h1>SG TREND INDICATOR</h1><br/><h2>SOCIETE GENERALE PRIME SERVICES</h2></div>\n",
       "<div id=\"info\">\n",
       "<div id=\"company\">\n",
       "<b>Alternative Investments Consulting<br/>\n",
       "\t\tPrime Services<br/></b>\n",
       "\t\tT (EU): +44 (0)20 7676 8225<br/>\n",
       "\t\tT (US): +1 212 278 7774\n",
       "\t\t</div>\n",
       "<div id=\"contacts\">\n",
       "<b>Europe &amp; ME:</b> James Skeggs, Tom Wrobel, Alex Hill<br/>\n",
       "<b>Americas:</b> Alex Skorniakov, David Regan, Lianyan Liu<br/><br/>\n",
       "<a href=\"mailto:PRM.Consulting@sgcib.com\">PRM.Consulting@sgcib.com</a>\n",
       "</div>\n",
       "<div align=\"right\" id=\"trade_date\">\n",
       "\t\t\tTrade Date: \n",
       "\t\t\t<input id=\"datepicker\" onchange=\"window.location.href = 'index.html?tradeDate=' + this.value;\" type=\"text\"/>\n",
       "<div align=\"right\" id=\"trade_date_message\">(Select a date to view historical data)</div>\n",
       "</div>\n",
       "<div align=\"right\" id=\"break\">\n",
       "<button class=\"tour_button\" id=\"startTourBtn\">Take a tour</button>\n",
       "<div align=\"right\" id=\"source\">*Source for all data: SG Prime Services &amp; Bloomberg</div>\n",
       "</div>\n",
       "</div>\n",
       "</div>\n",
       "<div class=\"left-wrapper\">\n",
       "<div id=\"summary\">\n",
       "<table cellspacing=\"0\" class=\"hover\" id=\"summaryTable\" width=\"100%\">\n",
       "<thead>\n",
       "<tr>\n",
       "<th>Benchmark</th>\n",
       "<th>Daily</th>\n",
       "<th>Month to Date</th>\n",
       "<th>Year to Date</th>\n",
       "<td class=\"net\" rowspan=\"5\">(net of fees)</td>\n",
       "</tr>\n",
       "</thead>\n",
       "</table>\n",
       "<div class=\"source\"></div>\n",
       "</div>\n",
       "<div id=\"perfStats\">\n",
       "<div class=\"sectionTitle\">Performance Statistics (since 2002/10)</div>\n",
       "</div>\n",
       "<div class=\"source\"></div>\n",
       "<div id=\"sectorChart\"></div>\n",
       "<div id=\"navChart\"></div>\n",
       "<div id=\"correlation\"></div>\n",
       "<div id=\"ppc\"></div>\n",
       "<div id=\"tradeDurationDistrib\"></div>\n",
       "</div>\n",
       "<div class=\"right-wrapper\">\n",
       "<div align=\"right\" id=\"marketTable\">\n",
       "<table cellspacing=\"0\" class=\"hover nowrap\" id=\"marketDataTable\" width=\"100%\">\n",
       "<thead id=\"marketDataTableHead\">\n",
       "<tr>\n",
       "<td colspan=\"5\"></td>\n",
       "<td align=\"center\" class=\"gross\" colspan=\"3\">(gross returns)</td>\n",
       "</tr>\n",
       "<tr>\n",
       "<th></th>\n",
       "<th></th>\n",
       "<th>Market</th>\n",
       "<th>Position</th>\n",
       "<th>Days in Position</th>\n",
       "<th>Daily</th>\n",
       "<th>Month to Date</th>\n",
       "<th>Year to Date</th>\n",
       "<th>Sector</th>\n",
       "</tr>\n",
       "</thead>\n",
       "</table>\n",
       "<div class=\"source\"></div>\n",
       "</div>\n",
       "<div align=\"right\" id=\"watchlist\">\n",
       "<table cellspacing=\"0\" class=\"hover\" id=\"watchlistTable\" width=\"100%\">\n",
       "<thead>\n",
       "<tr>\n",
       "<td align=\"left\" class=\"heading\" colspan=\"8\">Market Signal Watch List\n",
       "\t\t\t\t\t\t<span class=\"tooltip\">?\n",
       "\t\t\t\t\t\t\t<span class=\"tooltiptext\">Markets with highest probability of reversal/signal switch next trading day</span>\n",
       "</span>\n",
       "</td>\n",
       "</tr>\n",
       "<tr>\n",
       "<th></th>\n",
       "<th>Market</th>\n",
       "<th>Current Position</th>\n",
       "<th>Yesterday's Close</th>\n",
       "<th>20 Day Moving Average</th>\n",
       "<th>120 Day Moving Average</th>\n",
       "<th>Reversal Price</th>\n",
       "<th>Reversal Price Move</th>\n",
       "</tr>\n",
       "</thead>\n",
       "</table>\n",
       "<div class=\"source\"></div>\n",
       "</div>\n",
       "<div align=\"right\" id=\"trades\">\n",
       "<table cellspacing=\"0\" class=\"hover\" id=\"tradesTable\" width=\"100%\">\n",
       "<thead>\n",
       "<tr>\n",
       "<th></th>\n",
       "<th>Sector</th>\n",
       "<th>Market</th>\n",
       "<th>Trade Date</th>\n",
       "<th>New Position</th>\n",
       "</tr>\n",
       "</thead>\n",
       "</table>\n",
       "<div class=\"clear\"></div>\n",
       "<div class=\"source\"></div>\n",
       "</div>\n",
       "<div align=\"right\" id=\"disclaimer\">\n",
       "\tThis website is published by Societe Generale, click<a data-featherlight=\"iframe\" href=\"disclaimer.html\" target=\"_blank\">here to view the Disclaimer</a>and<a href=\"https://cib.societegenerale.com/en/legal/\" target=\"_blank\">here to view the general website Terms &amp; Conditions</a>\n",
       "</div>\n",
       "</div>\n",
       "<script src=\"https://1060771.collect.igodigital.com/collect.js\" type=\"text/javascript\"></script>\n",
       "<script type=\"text/javascript\">\n",
       "_etmc.push([\"setOrgId\", \"1060771\"]);\n",
       "_etmc.push([\"trackPageView\"]);\n",
       "</script>\n",
       "</body>\n",
       "</html>"
      ]
     },
     "execution_count": 20,
     "metadata": {},
     "output_type": "execute_result"
    }
   ],
   "source": [
    "soup"
   ]
  },
  {
   "cell_type": "code",
   "execution_count": null,
   "metadata": {},
   "outputs": [],
   "source": []
  },
  {
   "cell_type": "code",
   "execution_count": null,
   "metadata": {},
   "outputs": [],
   "source": []
  }
 ],
 "metadata": {
  "kernelspec": {
   "display_name": "Python 2",
   "language": "python",
   "name": "python2"
  },
  "language_info": {
   "codemirror_mode": {
    "name": "ipython",
    "version": 2
   },
   "file_extension": ".py",
   "mimetype": "text/x-python",
   "name": "python",
   "nbconvert_exporter": "python",
   "pygments_lexer": "ipython2",
   "version": "2.7.12"
  }
 },
 "nbformat": 4,
 "nbformat_minor": 2
}
